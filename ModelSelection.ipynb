{
 "cells": [
  {
   "cell_type": "markdown",
   "metadata": {},
   "source": [
    "# 模型評估\n",
    "\n",
    "* 交叉驗證(Cross-Validation)  \n",
    "    估計模型在面對**從沒有見過的數據**，它的的預測能力，也就是模型的泛化能力。\n",
    "    * K-fold cross-validation\n",
    "    * Stratified K-fold cross-validation  \n",
    "* 學習曲線(Learning curve)  \n",
    "    透過調整樣本數診斷訓練模型擬合(fit)的情況，Overfitting(high variance)，Underfitting(high bias)\n",
    "* 驗證曲線(Validation curve)  \n",
    "    透過調整超參數診斷訓練模型擬合(fit)的情況，Overfitting(high variance)，Underfitting(high bias)  \n"
   ]
  },
  {
   "cell_type": "markdown",
   "metadata": {},
   "source": [
    "## 資料預處理"
   ]
  },
  {
   "cell_type": "code",
   "execution_count": 1,
   "metadata": {},
   "outputs": [],
   "source": [
    "from sklearn.preprocessing import LabelEncoder\n",
    "from sklearn.model_selection import train_test_split\n",
    "from sklearn.preprocessing import StandardScaler\n",
    "from sklearn.decomposition import PCA\n",
    "from sklearn.linear_model import LogisticRegression\n",
    "from sklearn.pipeline import make_pipeline\n",
    "\n",
    "df = pd.read_csv('data/wdbc.data', header=None)\n",
    "X = df.loc[:, 2:].values\n",
    "y = df.loc[:, 1].values\n",
    "le = LabelEncoder()\n",
    "y = le.fit_transform(y)\n",
    "\n",
    "X_train, X_test, y_train, y_test = \\\n",
    "    train_test_split(X, y, \n",
    "                     test_size=0.20,\n",
    "                     stratify=y,\n",
    "                     random_state=1)\n",
    "\n",
    "pipe_lr = make_pipeline(StandardScaler(),\n",
    "                        PCA(n_components=2),\n",
    "                        LogisticRegression(random_state=1,solver='liblinear'))"
   ]
  },
  {
   "cell_type": "markdown",
   "metadata": {},
   "source": [
    "## k-Fold 交叉驗證法 K-fold cross-validation\n",
    "基本Kfold概念:  \n",
    "<img src=\"image/pipeLine.png\" width=\"500\">  \n",
    "隨機將資料分割K份，其中1份用於驗證，其餘K-1份用於訓練模型。但是這樣會產生一個問題，尤其當目標特徵類別不平衡時最容易發生，就是有可能在某份或多份被切割的資料裡只有一個類別的情況，如下圖Scikit Learn官網所示的圖形:  \n",
    "\n",
    "<img src=\"image/scikit_Kfold.png\" width=\"500\">  \n"
   ]
  },
  {
   "cell_type": "markdown",
   "metadata": {},
   "source": [
    "## 分層k-Fold 交叉驗證法 Stratified K-fold cross-validation\n",
    "\n",
    "每份被切割的數據中的目標特徵的類別比例都與原始**訓練數據**相同，它可以產生較好的bias與variance平衡的估計.(Ron Kohavi et al. [A Study of Cross-Validation and Bootstrap for Accuracy Estimation and Model Selection],International Joint Conference on Artificial Intelligence(IJCAI),14(12),1137-1145,1995)\n",
    "\n",
    "如Scikit Learn官網所示圖形:  \n",
    "\n",
    "<img src=\"image/scikit_stratifiedKFold.png\" width=\"500\">  \n"
   ]
  },
  {
   "cell_type": "code",
   "execution_count": 2,
   "metadata": {},
   "outputs": [
    {
     "name": "stdout",
     "output_type": "stream",
     "text": [
      "第  1 份, 0&1次數: [256 153], Acc: 0.935\n",
      "第  2 份, 0&1次數: [256 153], Acc: 0.935\n",
      "第  3 份, 0&1次數: [256 153], Acc: 0.957\n",
      "第  4 份, 0&1次數: [256 153], Acc: 0.957\n",
      "第  5 份, 0&1次數: [256 153], Acc: 0.935\n",
      "第  6 份, 0&1次數: [257 153], Acc: 0.956\n",
      "第  7 份, 0&1次數: [257 153], Acc: 0.978\n",
      "第  8 份, 0&1次數: [257 153], Acc: 0.933\n",
      "第  9 份, 0&1次數: [257 153], Acc: 0.956\n",
      "第 10 份, 0&1次數: [257 153], Acc: 0.956\n",
      "\n",
      "CV accuracy: 0.950 +/- 0.014\n"
     ]
    }
   ],
   "source": [
    "import numpy as np\n",
    "from sklearn.model_selection import StratifiedKFold\n",
    "    \n",
    "\n",
    "kfold = StratifiedKFold(n_splits=10,\n",
    "                        random_state=1).split(X_train, y_train)\n",
    "\n",
    "scores = []\n",
    "for k, (train, test) in enumerate(kfold):\n",
    "    pipe_lr.fit(X_train[train], y_train[train])\n",
    "    score = pipe_lr.score(X_train[test], y_train[test])\n",
    "    scores.append(score)\n",
    "    print('第 %2d 份, 0&1次數: %s, Acc: %.3f' % (k+1,\n",
    "          np.bincount(y_train[train]),\n",
    "          score)) # 0和1的count\n",
    "    \n",
    "print('\\nCV accuracy: %.3f +/- %.3f' % (np.mean(scores), np.std(scores)))"
   ]
  },
  {
   "cell_type": "markdown",
   "metadata": {},
   "source": [
    "## 分層K-fold 計分器"
   ]
  },
  {
   "cell_type": "code",
   "execution_count": 3,
   "metadata": {},
   "outputs": [
    {
     "name": "stdout",
     "output_type": "stream",
     "text": [
      "CV accuracy scores: [0.93478261 0.93478261 0.95652174 0.95652174 0.93478261 0.95555556\n",
      " 0.97777778 0.93333333 0.95555556 0.95555556]\n",
      "CV accuracy: 0.950 +/- 0.014\n"
     ]
    }
   ],
   "source": [
    "from sklearn.model_selection import cross_val_score\n",
    "\n",
    "scores = cross_val_score(estimator=pipe_lr,\n",
    "                         X=X_train,\n",
    "                         y=y_train,\n",
    "                         cv=10,\n",
    "                         n_jobs=1)#使用幾個cpu or 核心\n",
    "print('CV accuracy scores: %s' % scores)\n",
    "print('CV accuracy: %.3f +/- %.3f' % (np.mean(scores), np.std(scores)))"
   ]
  },
  {
   "cell_type": "markdown",
   "metadata": {},
   "source": [
    "## 學習曲線(Learning curve) \n",
    "\n",
    "<img src=\"image/LearningCurve.png\" width=\"500\">  \n",
    "\n",
    "* 理想準確率實務上很難取得，你也不知道針對這專案理想準確會是多少，理論上當然是越高越好，以我的經驗理想準確率我會搭配成本以及類別比率進行估計  \n",
    "* High bias 訓練與驗證曲線都偏低，表示Underfitting訓練數據集。這問題通常是模型學習不到模式(Pattern)要進行\n",
    "    1. 更多的特徵工程(建立組合新特徵)\n",
    "    2. 收集額外的特徵\n",
    "    3. 降低正規化的強度\n",
    "* High Variance 訓練與驗證曲線差異過大，表示Overfitting訓練數據集。\n",
    "    這問題是因為模型太複雜，所以\n",
    "    1. 可以透過收集更多的數據集(通常很難而且需要時間，常常沒辦法達成專案就要先推到一個進度)\n",
    "    2. 加強正規化參數的強度\n",
    "    3. 降維\n",
    "\n",
    "* 當然也有可能同時包含High bias和High Variance，通常這樣就表示模型根本就沒再學習，通常這樣我會著手朝特徵方面著手，以及再檢查一次資料方面有沒有問題是之前沒有注意到的情況，也就是再回到特徵工程以及回到業務知識方面跟業務人員再確認一次。"
   ]
  },
  {
   "cell_type": "code",
   "execution_count": 4,
   "metadata": {},
   "outputs": [
    {
     "data": {
      "text/plain": [
       "<Figure size 640x480 with 1 Axes>"
      ]
     },
     "metadata": {},
     "output_type": "display_data"
    }
   ],
   "source": [
    "import matplotlib.pyplot as plt\n",
    "from sklearn.model_selection import learning_curve\n",
    "\n",
    "\n",
    "train_sizes, train_scores, test_scores =\\\n",
    "                learning_curve(estimator=pipe_lr, \n",
    "                               X=X_train,\n",
    "                               y=y_train,\n",
    "                               train_sizes=np.linspace(0.1, 1.0, 10), #r seq  0.1 0.2...1\n",
    "                               cv=10,#預設使用分層k-fold\n",
    "                               n_jobs=1)\n",
    "\n",
    "train_mean = np.mean(train_scores, axis=1)\n",
    "train_std = np.std(train_scores, axis=1)\n",
    "test_mean = np.mean(test_scores, axis=1)\n",
    "test_std = np.std(test_scores, axis=1)\n",
    "\n",
    "plt.plot(train_sizes, train_mean,\n",
    "         color='blue', marker='o',\n",
    "         markersize=5, label='training accuracy')\n",
    "\n",
    "#訓練集的標準差區間\n",
    "plt.fill_between(train_sizes,\n",
    "                 train_mean + train_std,\n",
    "                 train_mean - train_std,\n",
    "                 alpha=0.15, color='blue')\n",
    "\n",
    "plt.plot(train_sizes, test_mean,\n",
    "         color='green', linestyle='--',\n",
    "         marker='s', markersize=5,\n",
    "         label='validation accuracy')\n",
    "\n",
    "#測試集的標準差區間\n",
    "plt.fill_between(train_sizes,\n",
    "                 test_mean + test_std,\n",
    "                 test_mean - test_std,\n",
    "                 alpha=0.15, color='green')\n",
    "\n",
    "plt.grid()\n",
    "plt.xlabel('Number of training samples')\n",
    "plt.ylabel('Accuracy')\n",
    "plt.legend(loc='lower right')\n",
    "plt.ylim([0.8, 1.03])\n",
    "plt.tight_layout()\n",
    "#plt.savefig('images/06_05.png', dpi=300)\n",
    "plt.show()"
   ]
  },
  {
   "cell_type": "markdown",
   "metadata": {},
   "source": [
    "## 驗證曲線(Validation curve)"
   ]
  },
  {
   "cell_type": "code",
   "execution_count": 5,
   "metadata": {},
   "outputs": [
    {
     "name": "stderr",
     "output_type": "stream",
     "text": [
      "C:\\Users\\renardbao\\Anaconda3\\lib\\site-packages\\matplotlib\\mathtext.py:843: MathTextWarning: Font 'default' does not have a glyph for '-' [U+2212], substituting with a dummy symbol.\n",
      "  MathTextWarning)\n"
     ]
    },
    {
     "data": {
      "image/png": "[encoded data removed]",
      "text/plain": [
       "<Figure size 432x288 with 1 Axes>"
      ]
     },
     "metadata": {
      "needs_background": "light"
     },
     "output_type": "display_data"
    }
   ],
   "source": [
    "from sklearn.model_selection import validation_curve\n",
    "\n",
    "pipe_lr = make_pipeline(StandardScaler(),\n",
    "                        LogisticRegression(penalty='l2', \n",
    "                                           random_state=1,\n",
    "                                           solver='liblinear'))\n",
    "param_range = [0.001, 0.01, 0.1, 1.0, 10.0, 100.0]\n",
    "train_scores, test_scores = validation_curve(\n",
    "                estimator=pipe_lr, \n",
    "                X=X_train, \n",
    "                y=y_train, \n",
    "                param_name='logisticregression__C', \n",
    "                param_range=param_range,\n",
    "                cv=10)\n",
    "\n",
    "train_mean = np.mean(train_scores, axis=1)\n",
    "train_std = np.std(train_scores, axis=1)\n",
    "test_mean = np.mean(test_scores, axis=1)\n",
    "test_std = np.std(test_scores, axis=1)\n",
    "\n",
    "plt.plot(param_range, train_mean, \n",
    "         color='blue', marker='o', \n",
    "         markersize=5, label='training accuracy')\n",
    "\n",
    "plt.fill_between(param_range, train_mean + train_std,\n",
    "                 train_mean - train_std, alpha=0.15,\n",
    "                 color='blue')\n",
    "\n",
    "plt.plot(param_range, test_mean, \n",
    "         color='green', linestyle='--', \n",
    "         marker='s', markersize=5, \n",
    "         label='validation accuracy')\n",
    "\n",
    "plt.fill_between(param_range, \n",
    "                 test_mean + test_std,\n",
    "                 test_mean - test_std, \n",
    "                 alpha=0.15, color='green')\n",
    "\n",
    "plt.grid()\n",
    "plt.xscale('log')\n",
    "plt.legend(loc='lower right')\n",
    "plt.xlabel('Parameter C')\n",
    "plt.ylabel('Accuracy')\n",
    "plt.ylim([0.8, 1.0])\n",
    "plt.tight_layout()\n",
    "# plt.savefig('images/06_06.png', dpi=300)\n",
    "plt.show()"
   ]
  },
  {
   "cell_type": "markdown",
   "metadata": {},
   "source": [
    "從上圖驗證曲線中我們Tune的超參數是邏輯式迴歸的反正規化參數C，提高正規化強度(較小的C)，模型有點Underfitting，降低強度(較大的C)則有點Overfitting(過度擬合了訓練資料，測試集準確度反而下降)。  \n",
    "比較理想的C值應該是介於0.01~0.1之間"
   ]
  },
  {
   "cell_type": "markdown",
   "metadata": {},
   "source": [
    "# Tune超參數  \n",
    "* 網格搜尋(Grid Search)  \n",
    "    使用暴力法以窮舉的方式搜尋我們所輸入的超參數全部的組合來找出最好的組合。  \n",
    "* 巢狀交叉驗證(Nested cross-validation)\n",
    "    結合Grid Search和Cross-validation來tune超參數。  \n",
    "    外折(outer fold):將數據集切割成訓練集和測試集  \n",
    "    內折(inner fold):使用訓練集來Tune超參數。  \n",
    "    示意圖:  \n",
    "    <img src=\"image/NestedCrossValidation.png\" width=\"500\">  \n",
    "\n",
    "    "
   ]
  },
  {
   "cell_type": "markdown",
   "metadata": {},
   "source": [
    "## 網格搜尋Grid Search\n",
    "下面將透過Grid Search tune SVM的超參數組合，分別是線性Kernel,rbf Kernel,C和gamma值。  "
   ]
  },
  {
   "cell_type": "code",
   "execution_count": 6,
   "metadata": {},
   "outputs": [
    {
     "name": "stdout",
     "output_type": "stream",
     "text": [
      "0.9846153846153847\n",
      "{'svc__C': 100.0, 'svc__gamma': 0.001, 'svc__kernel': 'rbf'}\n"
     ]
    }
   ],
   "source": [
    "\n",
    "from sklearn.model_selection import GridSearchCV\n",
    "from sklearn.svm import SVC\n",
    "\n",
    "pipe_svc = make_pipeline(StandardScaler(),\n",
    "                         SVC(random_state=1))\n",
    "\n",
    "param_range = [0.0001, 0.001, 0.01, 0.1, 1.0, 10.0, 100.0, 1000.0]\n",
    "\n",
    "#字典\n",
    "param_grid = [{'svc__C': param_range, \n",
    "               'svc__kernel': ['linear']},\n",
    "              {'svc__C': param_range, \n",
    "               'svc__gamma': param_range, \n",
    "               'svc__kernel': ['rbf']}]\n",
    "\n",
    "gs = GridSearchCV(estimator=pipe_svc, \n",
    "                  param_grid=param_grid, \n",
    "                  scoring='accuracy', \n",
    "                  cv=10,\n",
    "                  n_jobs=-1 #使用全部\n",
    "                 )\n",
    "gs = gs.fit(X_train, y_train)\n",
    "print(gs.best_score_)\n",
    "print(gs.best_params_)"
   ]
  },
  {
   "cell_type": "markdown",
   "metadata": {},
   "source": [
    "## 巢狀交叉驗證(Nested cross-validation)\n",
    "下面將演示5個外折2個內折的5x2巢狀交叉驗證SVM"
   ]
  },
  {
   "cell_type": "code",
   "execution_count": 7,
   "metadata": {},
   "outputs": [
    {
     "name": "stdout",
     "output_type": "stream",
     "text": [
      "CV accuracy: 0.974 +/- 0.015\n"
     ]
    }
   ],
   "source": [
    "#內折\n",
    "gs = GridSearchCV(estimator=pipe_svc,\n",
    "                  param_grid=param_grid,\n",
    "                  scoring='accuracy',\n",
    "                  cv=2)\n",
    "#外折\n",
    "scores = cross_val_score(gs, X_train, y_train, \n",
    "                         scoring='accuracy', cv=5)\n",
    "print('CV accuracy: %.3f +/- %.3f' % (np.mean(scores),\n",
    "                                      np.std(scores)))"
   ]
  },
  {
   "cell_type": "raw",
   "metadata": {},
   "source": [
    "5x2的巢狀交叉驗證決策樹(Tune 超參數'深度'max_depth)"
   ]
  },
  {
   "cell_type": "code",
   "execution_count": 8,
   "metadata": {},
   "outputs": [
    {
     "name": "stdout",
     "output_type": "stream",
     "text": [
      "CV accuracy: 0.934 +/- 0.016\n"
     ]
    }
   ],
   "source": [
    "from sklearn.tree import DecisionTreeClassifier\n",
    "\n",
    "gs = GridSearchCV(estimator=DecisionTreeClassifier(random_state=0),\n",
    "                  param_grid=[{'max_depth': [1, 2, 3, 4, 5, 6, 7, None]}],\n",
    "                  scoring='accuracy',\n",
    "                  cv=2)\n",
    "\n",
    "scores = cross_val_score(gs, X_train, y_train, \n",
    "                         scoring='accuracy', cv=5)\n",
    "print('CV accuracy: %.3f +/- %.3f' % (np.mean(scores), \n",
    "                                      np.std(scores)))"
   ]
  },
  {
   "cell_type": "markdown",
   "metadata": {},
   "source": [
    "SVM vs 決策樹，目前單一以準確度來說，我們可以推估這資料集SVM會比較好。但是對決策樹比較不公平點，因為我們只Tune了一個超參數。"
   ]
  },
  {
   "cell_type": "markdown",
   "metadata": {},
   "source": [
    "# 混淆矩陣"
   ]
  }
 ],
 "metadata": {
  "kernelspec": {
   "display_name": "Python 3",
   "language": "python",
   "name": "python3"
  },
  "language_info": {
   "codemirror_mode": {
    "name": "ipython",
    "version": 3
   },
   "file_extension": ".py",
   "mimetype": "text/x-python",
   "name": "python",
   "nbconvert_exporter": "python",
   "pygments_lexer": "ipython3",
   "version": "3.7.1"
  }
 },
 "nbformat": 4,
 "nbformat_minor": 2
}
