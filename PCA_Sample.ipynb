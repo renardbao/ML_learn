{
 "cells": [
  {
   "cell_type": "code",
   "execution_count": null,
   "metadata": {},
   "outputs": [],
   "source": []
  },
  {
   "cell_type": "code",
   "execution_count": 21,
   "metadata": {
    "collapsed": true,
    "scrolled": true
   },
   "outputs": [
    {
     "name": "stdout",
     "output_type": "stream",
     "text": [
      "Class labels [1 2 3]\n"
     ]
    },
    {
     "data": {
      "text/html": [
       "<div>\n",
       "<style scoped>\n",
       "    .dataframe tbody tr th:only-of-type {\n",
       "        vertical-align: middle;\n",
       "    }\n",
       "\n",
       "    .dataframe tbody tr th {\n",
       "        vertical-align: top;\n",
       "    }\n",
       "\n",
       "    .dataframe thead th {\n",
       "        text-align: right;\n",
       "    }\n",
       "</style>\n",
       "<table border=\"1\" class=\"dataframe\">\n",
       "  <thead>\n",
       "    <tr style=\"text-align: right;\">\n",
       "      <th></th>\n",
       "      <th>Class label</th>\n",
       "      <th>Alcohol</th>\n",
       "      <th>Malic acid</th>\n",
       "      <th>Ash</th>\n",
       "      <th>Alcalinity of ash</th>\n",
       "      <th>Magnesium</th>\n",
       "      <th>Total phenols</th>\n",
       "      <th>Flavanoids</th>\n",
       "      <th>Nonflavanoid phenols</th>\n",
       "      <th>Proanthocyanins</th>\n",
       "      <th>Color intensity</th>\n",
       "      <th>Hue</th>\n",
       "      <th>OD280/OD315 of diluted wines</th>\n",
       "      <th>Proline</th>\n",
       "    </tr>\n",
       "  </thead>\n",
       "  <tbody>\n",
       "    <tr>\n",
       "      <th>0</th>\n",
       "      <td>1</td>\n",
       "      <td>14.23</td>\n",
       "      <td>1.71</td>\n",
       "      <td>2.43</td>\n",
       "      <td>15.6</td>\n",
       "      <td>127</td>\n",
       "      <td>2.80</td>\n",
       "      <td>3.06</td>\n",
       "      <td>0.28</td>\n",
       "      <td>2.29</td>\n",
       "      <td>5.64</td>\n",
       "      <td>1.04</td>\n",
       "      <td>3.92</td>\n",
       "      <td>1065</td>\n",
       "    </tr>\n",
       "    <tr>\n",
       "      <th>1</th>\n",
       "      <td>1</td>\n",
       "      <td>13.20</td>\n",
       "      <td>1.78</td>\n",
       "      <td>2.14</td>\n",
       "      <td>11.2</td>\n",
       "      <td>100</td>\n",
       "      <td>2.65</td>\n",
       "      <td>2.76</td>\n",
       "      <td>0.26</td>\n",
       "      <td>1.28</td>\n",
       "      <td>4.38</td>\n",
       "      <td>1.05</td>\n",
       "      <td>3.40</td>\n",
       "      <td>1050</td>\n",
       "    </tr>\n",
       "    <tr>\n",
       "      <th>2</th>\n",
       "      <td>1</td>\n",
       "      <td>13.16</td>\n",
       "      <td>2.36</td>\n",
       "      <td>2.67</td>\n",
       "      <td>18.6</td>\n",
       "      <td>101</td>\n",
       "      <td>2.80</td>\n",
       "      <td>3.24</td>\n",
       "      <td>0.30</td>\n",
       "      <td>2.81</td>\n",
       "      <td>5.68</td>\n",
       "      <td>1.03</td>\n",
       "      <td>3.17</td>\n",
       "      <td>1185</td>\n",
       "    </tr>\n",
       "    <tr>\n",
       "      <th>3</th>\n",
       "      <td>1</td>\n",
       "      <td>14.37</td>\n",
       "      <td>1.95</td>\n",
       "      <td>2.50</td>\n",
       "      <td>16.8</td>\n",
       "      <td>113</td>\n",
       "      <td>3.85</td>\n",
       "      <td>3.49</td>\n",
       "      <td>0.24</td>\n",
       "      <td>2.18</td>\n",
       "      <td>7.80</td>\n",
       "      <td>0.86</td>\n",
       "      <td>3.45</td>\n",
       "      <td>1480</td>\n",
       "    </tr>\n",
       "    <tr>\n",
       "      <th>4</th>\n",
       "      <td>1</td>\n",
       "      <td>13.24</td>\n",
       "      <td>2.59</td>\n",
       "      <td>2.87</td>\n",
       "      <td>21.0</td>\n",
       "      <td>118</td>\n",
       "      <td>2.80</td>\n",
       "      <td>2.69</td>\n",
       "      <td>0.39</td>\n",
       "      <td>1.82</td>\n",
       "      <td>4.32</td>\n",
       "      <td>1.04</td>\n",
       "      <td>2.93</td>\n",
       "      <td>735</td>\n",
       "    </tr>\n",
       "  </tbody>\n",
       "</table>\n",
       "</div>"
      ],
      "text/plain": [
       "   Class label  Alcohol  Malic acid   Ash  Alcalinity of ash  Magnesium  \\\n",
       "0            1    14.23        1.71  2.43               15.6        127   \n",
       "1            1    13.20        1.78  2.14               11.2        100   \n",
       "2            1    13.16        2.36  2.67               18.6        101   \n",
       "3            1    14.37        1.95  2.50               16.8        113   \n",
       "4            1    13.24        2.59  2.87               21.0        118   \n",
       "\n",
       "   Total phenols  Flavanoids  Nonflavanoid phenols  Proanthocyanins  \\\n",
       "0           2.80        3.06                  0.28             2.29   \n",
       "1           2.65        2.76                  0.26             1.28   \n",
       "2           2.80        3.24                  0.30             2.81   \n",
       "3           3.85        3.49                  0.24             2.18   \n",
       "4           2.80        2.69                  0.39             1.82   \n",
       "\n",
       "   Color intensity   Hue  OD280/OD315 of diluted wines  Proline  \n",
       "0             5.64  1.04                          3.92     1065  \n",
       "1             4.38  1.05                          3.40     1050  \n",
       "2             5.68  1.03                          3.17     1185  \n",
       "3             7.80  0.86                          3.45     1480  \n",
       "4             4.32  1.04                          2.93      735  "
      ]
     },
     "execution_count": 21,
     "metadata": {},
     "output_type": "execute_result"
    }
   ],
   "source": [
    "df_wine = pd.read_csv('data/wine.data',header = None)\n",
    "df_wine.columns = ['Class label', 'Alcohol', 'Malic acid', 'Ash',\n",
    "                   'Alcalinity of ash', 'Magnesium', 'Total phenols',\n",
    "                   'Flavanoids', 'Nonflavanoid phenols', 'Proanthocyanins',\n",
    "                   'Color intensity', 'Hue', 'OD280/OD315 of diluted wines',\n",
    "                   'Proline']\n",
    "\n",
    "print('Class labels', np.unique(df_wine['Class label']))\n",
    "df_wine.head()"
   ]
  },
  {
   "cell_type": "code",
   "execution_count": 22,
   "metadata": {
    "collapsed": true,
    "scrolled": true
   },
   "outputs": [
    {
     "name": "stdout",
     "output_type": "stream",
     "text": [
      "(124, 13) (54, 13)\n"
     ]
    }
   ],
   "source": [
    "from sklearn.model_selection import train_test_split\n",
    "\n",
    "X, y = df_wine.iloc[:, 1:].values, df_wine.iloc[:, 0].values\n",
    "\n",
    "X_train, X_test, y_train, y_test =\\\n",
    "    train_test_split(X, y, \n",
    "                     test_size=0.3, \n",
    "                     random_state=0, \n",
    "                     stratify=y)\n",
    "#stratify=y 根據原樣本y的類別比例隨機分配至測試資料\n",
    "\n",
    "print(X_train.shape, X_test.shape)"
   ]
  },
  {
   "cell_type": "code",
   "execution_count": 24,
   "metadata": {
    "collapsed": true,
    "scrolled": true
   },
   "outputs": [
    {
     "data": {
      "text/plain": [
       "array([[ 0.71225893,  2.22048673, -0.13025864,  0.05962872, -0.50432733,\n",
       "        -0.52831584, -1.24000033,  0.84118003, -1.05215112, -0.29218864,\n",
       "        -0.20017028, -0.82164144, -0.62946362],\n",
       "       [ 0.88229214, -0.70457155,  1.17533605, -0.09065504,  2.34147876,\n",
       "         1.01675879,  0.66299475,  1.0887425 , -0.49293533,  0.13152077,\n",
       "         1.33982592,  0.54931269,  1.47568796],\n",
       "       [ 0.84585645, -0.73022996,  1.17533605,  0.81104754,  0.13597904,\n",
       "         1.09807851,  1.16326665, -0.64419483,  1.25249578,  0.25863359,\n",
       "         1.06806189,  0.1308109 ,  1.62934866]])"
      ]
     },
     "execution_count": 24,
     "metadata": {},
     "output_type": "execute_result"
    }
   ],
   "source": [
    "from sklearn.preprocessing import StandardScaler\n",
    "\n",
    "stdsc = StandardScaler()\n",
    "X_train_std = stdsc.fit_transform(X_train)\n",
    "X_test_std = stdsc.transform(X_test)\n",
    "X_train_std[:3]"
   ]
  },
  {
   "cell_type": "markdown",
   "metadata": {},
   "source": [
    "#### 因素分析"
   ]
  },
  {
   "cell_type": "code",
   "execution_count": 55,
   "metadata": {},
   "outputs": [
    {
     "data": {
      "text/html": [
       "<style  type=\"text/css\" >\n",
       "#T_fac66bf4_e51b_11ea_b4dd_0c9d923f786frow0_col0{\n",
       "            background-color:  #9494ff;\n",
       "            color:  #000000;\n",
       "        }#T_fac66bf4_e51b_11ea_b4dd_0c9d923f786frow0_col1,#T_fac66bf4_e51b_11ea_b4dd_0c9d923f786frow1_col2{\n",
       "            background-color:  #ffa0a0;\n",
       "            color:  #000000;\n",
       "        }#T_fac66bf4_e51b_11ea_b4dd_0c9d923f786frow0_col2{\n",
       "            background-color:  #ceceff;\n",
       "            color:  #000000;\n",
       "        }#T_fac66bf4_e51b_11ea_b4dd_0c9d923f786frow0_col3{\n",
       "            background-color:  #ffb4b4;\n",
       "            color:  #000000;\n",
       "        }#T_fac66bf4_e51b_11ea_b4dd_0c9d923f786frow0_col4{\n",
       "            background-color:  #8a8aff;\n",
       "            color:  #000000;\n",
       "        }#T_fac66bf4_e51b_11ea_b4dd_0c9d923f786frow0_col5{\n",
       "            background-color:  #0c0cff;\n",
       "            color:  #000000;\n",
       "        }#T_fac66bf4_e51b_11ea_b4dd_0c9d923f786frow0_col6{\n",
       "            background-color:  #0000ff;\n",
       "            color:  #000000;\n",
       "        }#T_fac66bf4_e51b_11ea_b4dd_0c9d923f786frow0_col7{\n",
       "            background-color:  #ff8080;\n",
       "            color:  #000000;\n",
       "        }#T_fac66bf4_e51b_11ea_b4dd_0c9d923f786frow0_col8{\n",
       "            background-color:  #3a3aff;\n",
       "            color:  #000000;\n",
       "        }#T_fac66bf4_e51b_11ea_b4dd_0c9d923f786frow0_col9{\n",
       "            background-color:  #fffafa;\n",
       "            color:  #000000;\n",
       "        }#T_fac66bf4_e51b_11ea_b4dd_0c9d923f786frow0_col10{\n",
       "            background-color:  #3030ff;\n",
       "            color:  #000000;\n",
       "        }#T_fac66bf4_e51b_11ea_b4dd_0c9d923f786frow0_col11{\n",
       "            background-color:  #1818ff;\n",
       "            color:  #000000;\n",
       "        }#T_fac66bf4_e51b_11ea_b4dd_0c9d923f786frow0_col12{\n",
       "            background-color:  #3e3eff;\n",
       "            color:  #000000;\n",
       "        }#T_fac66bf4_e51b_11ea_b4dd_0c9d923f786frow1_col0{\n",
       "            background-color:  #ff1818;\n",
       "            color:  #000000;\n",
       "        }#T_fac66bf4_e51b_11ea_b4dd_0c9d923f786frow1_col1{\n",
       "            background-color:  #ffcaca;\n",
       "            color:  #000000;\n",
       "        }#T_fac66bf4_e51b_11ea_b4dd_0c9d923f786frow1_col3{\n",
       "            background-color:  #a0a0ff;\n",
       "            color:  #000000;\n",
       "        }#T_fac66bf4_e51b_11ea_b4dd_0c9d923f786frow1_col4{\n",
       "            background-color:  #ff8888;\n",
       "            color:  #000000;\n",
       "        }#T_fac66bf4_e51b_11ea_b4dd_0c9d923f786frow1_col5{\n",
       "            background-color:  #f6f6ff;\n",
       "            color:  #000000;\n",
       "        }#T_fac66bf4_e51b_11ea_b4dd_0c9d923f786frow1_col6{\n",
       "            background-color:  #d0d0ff;\n",
       "            color:  #000000;\n",
       "        }#T_fac66bf4_e51b_11ea_b4dd_0c9d923f786frow1_col7{\n",
       "            background-color:  #fff2f2;\n",
       "            color:  #000000;\n",
       "        }#T_fac66bf4_e51b_11ea_b4dd_0c9d923f786frow1_col8{\n",
       "            background-color:  #e0e0ff;\n",
       "            color:  #000000;\n",
       "        }#T_fac66bf4_e51b_11ea_b4dd_0c9d923f786frow1_col9{\n",
       "            background-color:  #ff0000;\n",
       "            color:  #000000;\n",
       "        }#T_fac66bf4_e51b_11ea_b4dd_0c9d923f786frow1_col10{\n",
       "            background-color:  #6e6eff;\n",
       "            color:  #000000;\n",
       "        }#T_fac66bf4_e51b_11ea_b4dd_0c9d923f786frow1_col11{\n",
       "            background-color:  #5858ff;\n",
       "            color:  #000000;\n",
       "        }#T_fac66bf4_e51b_11ea_b4dd_0c9d923f786frow1_col12{\n",
       "            background-color:  #ff5858;\n",
       "            color:  #000000;\n",
       "        }</style><table id=\"T_fac66bf4_e51b_11ea_b4dd_0c9d923f786f\" ><thead>    <tr>        <th class=\"blank level0\" ></th>        <th class=\"col_heading level0 col0\" >Alcohol</th>        <th class=\"col_heading level0 col1\" >Malic acid</th>        <th class=\"col_heading level0 col2\" >Ash</th>        <th class=\"col_heading level0 col3\" >Alcalinity of ash</th>        <th class=\"col_heading level0 col4\" >Magnesium</th>        <th class=\"col_heading level0 col5\" >Total phenols</th>        <th class=\"col_heading level0 col6\" >Flavanoids</th>        <th class=\"col_heading level0 col7\" >Nonflavanoid phenols</th>        <th class=\"col_heading level0 col8\" >Proanthocyanins</th>        <th class=\"col_heading level0 col9\" >Color intensity</th>        <th class=\"col_heading level0 col10\" >Hue</th>        <th class=\"col_heading level0 col11\" >OD280/OD315 of diluted wines</th>        <th class=\"col_heading level0 col12\" >Proline</th>    </tr></thead><tbody>\n",
       "                <tr>\n",
       "                        <th id=\"T_fac66bf4_e51b_11ea_b4dd_0c9d923f786flevel0_row0\" class=\"row_heading level0 row0\" >PC1</th>\n",
       "                        <td id=\"T_fac66bf4_e51b_11ea_b4dd_0c9d923f786frow0_col0\" class=\"data row0 col0\" >-0.14</td>\n",
       "                        <td id=\"T_fac66bf4_e51b_11ea_b4dd_0c9d923f786frow0_col1\" class=\"data row0 col1\" >0.25</td>\n",
       "                        <td id=\"T_fac66bf4_e51b_11ea_b4dd_0c9d923f786frow0_col2\" class=\"data row0 col2\" >-0.025</td>\n",
       "                        <td id=\"T_fac66bf4_e51b_11ea_b4dd_0c9d923f786frow0_col3\" class=\"data row0 col3\" >0.21</td>\n",
       "                        <td id=\"T_fac66bf4_e51b_11ea_b4dd_0c9d923f786frow0_col4\" class=\"data row0 col4\" >-0.15</td>\n",
       "                        <td id=\"T_fac66bf4_e51b_11ea_b4dd_0c9d923f786frow0_col5\" class=\"data row0 col5\" >-0.39</td>\n",
       "                        <td id=\"T_fac66bf4_e51b_11ea_b4dd_0c9d923f786frow0_col6\" class=\"data row0 col6\" >-0.42</td>\n",
       "                        <td id=\"T_fac66bf4_e51b_11ea_b4dd_0c9d923f786frow0_col7\" class=\"data row0 col7\" >0.31</td>\n",
       "                        <td id=\"T_fac66bf4_e51b_11ea_b4dd_0c9d923f786frow0_col8\" class=\"data row0 col8\" >-0.31</td>\n",
       "                        <td id=\"T_fac66bf4_e51b_11ea_b4dd_0c9d923f786frow0_col9\" class=\"data row0 col9\" >0.076</td>\n",
       "                        <td id=\"T_fac66bf4_e51b_11ea_b4dd_0c9d923f786frow0_col10\" class=\"data row0 col10\" >-0.33</td>\n",
       "                        <td id=\"T_fac66bf4_e51b_11ea_b4dd_0c9d923f786frow0_col11\" class=\"data row0 col11\" >-0.37</td>\n",
       "                        <td id=\"T_fac66bf4_e51b_11ea_b4dd_0c9d923f786frow0_col12\" class=\"data row0 col12\" >-0.3</td>\n",
       "            </tr>\n",
       "            <tr>\n",
       "                        <th id=\"T_fac66bf4_e51b_11ea_b4dd_0c9d923f786flevel0_row1\" class=\"row_heading level0 row1\" >PC2</th>\n",
       "                        <td id=\"T_fac66bf4_e51b_11ea_b4dd_0c9d923f786frow1_col0\" class=\"data row1 col0\" >0.5</td>\n",
       "                        <td id=\"T_fac66bf4_e51b_11ea_b4dd_0c9d923f786frow1_col1\" class=\"data row1 col1\" >0.16</td>\n",
       "                        <td id=\"T_fac66bf4_e51b_11ea_b4dd_0c9d923f786frow1_col2\" class=\"data row1 col2\" >0.24</td>\n",
       "                        <td id=\"T_fac66bf4_e51b_11ea_b4dd_0c9d923f786frow1_col3\" class=\"data row1 col3\" >-0.11</td>\n",
       "                        <td id=\"T_fac66bf4_e51b_11ea_b4dd_0c9d923f786frow1_col4\" class=\"data row1 col4\" >0.29</td>\n",
       "                        <td id=\"T_fac66bf4_e51b_11ea_b4dd_0c9d923f786frow1_col5\" class=\"data row1 col5\" >0.051</td>\n",
       "                        <td id=\"T_fac66bf4_e51b_11ea_b4dd_0c9d923f786frow1_col6\" class=\"data row1 col6\" >-0.023</td>\n",
       "                        <td id=\"T_fac66bf4_e51b_11ea_b4dd_0c9d923f786frow1_col7\" class=\"data row1 col7\" >0.09</td>\n",
       "                        <td id=\"T_fac66bf4_e51b_11ea_b4dd_0c9d923f786frow1_col8\" class=\"data row1 col8\" >0.0084</td>\n",
       "                        <td id=\"T_fac66bf4_e51b_11ea_b4dd_0c9d923f786frow1_col9\" class=\"data row1 col9\" >0.55</td>\n",
       "                        <td id=\"T_fac66bf4_e51b_11ea_b4dd_0c9d923f786frow1_col10\" class=\"data row1 col10\" >-0.21</td>\n",
       "                        <td id=\"T_fac66bf4_e51b_11ea_b4dd_0c9d923f786frow1_col11\" class=\"data row1 col11\" >-0.25</td>\n",
       "                        <td id=\"T_fac66bf4_e51b_11ea_b4dd_0c9d923f786frow1_col12\" class=\"data row1 col12\" >0.38</td>\n",
       "            </tr>\n",
       "    </tbody></table>"
      ],
      "text/plain": [
       "<pandas.io.formats.style.Styler at 0x212fd2a1ef0>"
      ]
     },
     "execution_count": 55,
     "metadata": {},
     "output_type": "execute_result"
    }
   ],
   "source": [
    "df_pc = pd.DataFrame(pca.components_[0:2], columns=df_wine.columns[1:])\n",
    "df_pc.index = [f\"PC{c}\" for c in['1', '2']]\n",
    "df_pc.style\\\n",
    "    .background_gradient(cmap='bwr', axis=None,text_color_threshold= 0)\\\n",
    "    .format(\"{:.2}\")\n"
   ]
  },
  {
   "cell_type": "markdown",
   "metadata": {},
   "source": [
    "PC1 跟Malic acid,Alcalinity of ash,Nonflavanoid phenols 相關\n",
    "PC2 跟Alcohol,Ash,Magnesium,Color intensity,Proline 相關.  \n",
    "綜合來看1&3應該依靠酒精濃度和顏色深淺來區分,而13和2最大的區分是依靠酒精濃度和顏色深淺"
   ]
  },
  {
   "cell_type": "code",
   "execution_count": 95,
   "metadata": {},
   "outputs": [
    {
     "data": {
      "image/png": "[encoded data removed]",
      "text/plain": [
       "<Figure size 720x432 with 1 Axes>"
      ]
     },
     "metadata": {
      "needs_background": "light"
     },
     "output_type": "display_data"
    },
    {
     "data": {
      "text/plain": [
       "<Figure size 720x432 with 0 Axes>"
      ]
     },
     "metadata": {},
     "output_type": "display_data"
    }
   ],
   "source": [
    "colors = ['r', 'b', 'g']\n",
    "markers = ['s', 'x', 'o']\n",
    "\n",
    "for l, c, m in zip(np.unique(y_train), colors, markers):\n",
    "    plt.scatter(X_train_pca[y_train == l, 0], \n",
    "                X_train_pca[y_train == l, 1], \n",
    "                c=c, label=l, marker=m,alpha = 0.5)\n",
    "\n",
    "\n",
    "xs = pca.transform(X_train_std)[:,0] # see 'prcomp(my_data)$x' in R\n",
    "ys = pca.transform(X_train_std)[:,1]\n",
    "for i in range(pca.components_.shape[1]):\n",
    "# arrows project features (ie columns from csv) as vectors onto PC axes\n",
    "    plt.arrow(0, 0, pca.components_[0,i] * max(xs),pca.components_[1,i]*max(ys),\n",
    "              color='r', width=0.0005, head_width=0.0025)\n",
    "    plt.text(pca.components_[0,i]* max(xs)*1.2,pca.components_[1,i]* max(ys)*1.2,\n",
    "             list(df_wine.columns.values)[i+1], color='r')\n",
    "    \n",
    "    \n",
    "plt.xlabel('PC 1')\n",
    "plt.ylabel('PC 2')\n",
    "plt.legend(loc='lower left')\n",
    "plt.tight_layout()\n",
    "plt.figure(figsize=(10, 6))\n",
    "# plt.savefig('images/05_03.png', dpi=300)\n",
    "plt.show()"
   ]
  }
 ],
 "metadata": {
  "kernelspec": {
   "display_name": "Python 3",
   "language": "python",
   "name": "python3"
  },
  "language_info": {
   "codemirror_mode": {
    "name": "ipython",
    "version": 3
   },
   "file_extension": ".py",
   "mimetype": "text/x-python",
   "name": "python",
   "nbconvert_exporter": "python",
   "pygments_lexer": "ipython3",
   "version": "3.7.1"
  }
 },
 "nbformat": 4,
 "nbformat_minor": 2
}
