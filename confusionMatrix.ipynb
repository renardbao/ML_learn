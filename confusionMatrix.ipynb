{
 "cells": [
  {
   "cell_type": "markdown",
   "metadata": {},
   "source": [
    "# 混淆矩陣\n",
    "<img src=\"image/confusionMatrix.png\" width=\"400\">  \n",
    "\n",
    "* 精準度(precision): 所有預測為正，實際上為正的比率　$PRE = \\frac{TP}{TP + FP}$  \n",
    "* 召回率(recall): 所有實際上為正，被預測正確的比率　$REC = \\frac{TP}{TP + FN}$\n",
    "* F1-Score: 精準度與召回率的調和平均 $F1 = 2\\frac{PRE \\times REC}{PRE + REC}$"
   ]
  },
  {
   "cell_type": "code",
   "execution_count": 33,
   "metadata": {},
   "outputs": [],
   "source": [
    "from sklearn.preprocessing import LabelEncoder\n",
    "from sklearn.model_selection import train_test_split\n",
    "from sklearn.preprocessing import StandardScaler\n",
    "from sklearn.pipeline import make_pipeline\n",
    "\n",
    "#df = pd.read_csv('data/wdbc.data', header=None)\n",
    "import pandas as pd\n",
    "df = pd.read_csv('https://archive.ics.uci.edu/ml/'\n",
    "                 'machine-learning-databases'\n",
    "                 '/breast-cancer-wisconsin/wdbc.data', header=None)\n",
    "X = df.loc[:, 2:].values\n",
    "y = df.loc[:, 1].values\n",
    "le = LabelEncoder()\n",
    "y = le.fit_transform(y)\n",
    "\n",
    "X_train, X_test, y_train, y_test = \\\n",
    "    train_test_split(X, y, \n",
    "                     test_size=0.20,\n",
    "                     stratify=y,\n",
    "                     random_state=1)"
   ]
  },
  {
   "cell_type": "markdown",
   "metadata": {},
   "source": [
    "## Scikit-Learn 混淆矩陣"
   ]
  },
  {
   "cell_type": "code",
   "execution_count": 34,
   "metadata": {},
   "outputs": [
    {
     "name": "stdout",
     "output_type": "stream",
     "text": [
      "[[71  1]\n",
      " [ 2 40]]\n"
     ]
    }
   ],
   "source": [
    "from sklearn.svm import SVC\n",
    "from sklearn.metrics import confusion_matrix\n",
    "\n",
    "pipe_svc = make_pipeline(StandardScaler(),\n",
    "                         SVC(random_state=1))\n",
    "\n",
    "pipe_svc.fit(X_train, y_train)\n",
    "y_pred = pipe_svc.predict(X_test)\n",
    "confmat = confusion_matrix(y_true=y_test, y_pred=y_pred)\n",
    "print(confmat)\n"
   ]
  },
  {
   "cell_type": "markdown",
   "metadata": {},
   "source": [
    "## 混淆矩陣Matplot視覺化"
   ]
  },
  {
   "cell_type": "code",
   "execution_count": 35,
   "metadata": {},
   "outputs": [
    {
     "data": {
      "text/plain": [
       "<function matplotlib.pyplot.show(close=None, block=None)>"
      ]
     },
     "execution_count": 35,
     "metadata": {},
     "output_type": "execute_result"
    },
    {
     "data": {
      "image/png": "[encoded data removed]",
      "text/plain": [
       "<Figure size 360x360 with 1 Axes>"
      ]
     },
     "metadata": {
      "needs_background": "light"
     },
     "output_type": "display_data"
    }
   ],
   "source": [
    "import matplotlib.pyplot as plt\n",
    "\n",
    "fig, ax = plt.subplots(figsize=(5, 5))\n",
    "ax.matshow(confmat, cmap=plt.cm.Blues, alpha=0.3)\n",
    "for i in range(confmat.shape[0]):\n",
    "    for j in range(confmat.shape[1]):\n",
    "        ax.text(x=j, y=i, s=confmat[i, j], va='center', ha='center')\n",
    "\n",
    "plt.xlabel('預測類別',fontproperties=\"Microsoft JhengHei\",fontsize = 16)\n",
    "plt.ylabel('實際類別',fontproperties=\"Microsoft JhengHei\",fontsize = 16)\n",
    "\n",
    "plt.tight_layout()\n",
    "#plt.savefig('images/06_09.png', dpi=300)\n",
    "plt.show"
   ]
  },
  {
   "cell_type": "markdown",
   "metadata": {},
   "source": [
    "## Scikit-Learn Pre,Rec,F1 Score"
   ]
  },
  {
   "cell_type": "code",
   "execution_count": 36,
   "metadata": {},
   "outputs": [
    {
     "name": "stdout",
     "output_type": "stream",
     "text": [
      "精確率Pre: 0.976\n",
      "召回率Rec: 0.952\n",
      "F1 Score: 0.964\n"
     ]
    }
   ],
   "source": [
    "from sklearn.metrics import precision_score, recall_score, f1_score\n",
    "\n",
    "print('精確率Pre: %.3f' % precision_score(y_true=y_test, y_pred=y_pred))\n",
    "print('召回率Rec: %.3f' % recall_score(y_true=y_test, y_pred=y_pred))\n",
    "print('F1 Score: %.3f' % f1_score(y_true=y_test, y_pred=y_pred))"
   ]
  },
  {
   "cell_type": "markdown",
   "metadata": {},
   "source": [
    "## ROC曲線 \n",
    "透過改變分類器門檻值觀察偽陽率和真陽率的的曲線，對角線可以被解釋成隨機猜測，如果曲線低於對角線則分類器比隨便瞎猜都還差，相反的曲線越靠近左上方則越好。\n",
    "* AUC(Area Under the Curve): 曲線下的面積，面積越大代表曲線越靠近左上方，是衡量演算法的標準之一。"
   ]
  },
  {
   "cell_type": "code",
   "execution_count": 40,
   "metadata": {},
   "outputs": [],
   "source": [
    "#設置plt中文\n",
    "from matplotlib import font_manager\n",
    "\n",
    "fontP = font_manager.FontProperties()\n",
    "fontP.set_family('Microsoft JhengHei')"
   ]
  },
  {
   "cell_type": "code",
   "execution_count": 50,
   "metadata": {},
   "outputs": [
    {
     "name": "stdout",
     "output_type": "stream",
     "text": [
      "fpr\n",
      "[0.         0.         0.         0.01052632 0.01052632 0.04210526\n",
      " 0.04210526 0.05263158 0.05263158 0.07368421 0.07368421 0.95789474\n",
      " 0.95789474 1.        ]\n",
      "tpr\n",
      "[0.         0.36842105 0.78947368 0.78947368 0.9122807  0.9122807\n",
      " 0.92982456 0.92982456 0.96491228 0.96491228 0.98245614 0.98245614\n",
      " 1.         1.        ]\n",
      "thresholds\n",
      "[2.         1.         0.99999977 0.99999794 0.99780001 0.96004211\n",
      " 0.79097343 0.68439458 0.59460603 0.12080005 0.09173646 0.\n",
      " 0.         0.        ]\n",
      "fpr\n",
      "[0.         0.         0.         0.02105263 0.02105263 0.09473684\n",
      " 0.09473684 0.21052632 0.21052632 0.58947368 0.58947368 0.82105263\n",
      " 0.82105263 1.        ]\n",
      "tpr\n",
      "[0.         0.1754386  0.89473684 0.89473684 0.92982456 0.92982456\n",
      " 0.94736842 0.94736842 0.96491228 0.96491228 0.98245614 0.98245614\n",
      " 1.         1.        ]\n",
      "thresholds\n",
      "[2.         1.         0.8884452  0.64469824 0.24602056 0.00303816\n",
      " 0.00302922 0.0001252  0.00008909 0.         0.         0.\n",
      " 0.         0.        ]\n",
      "fpr\n",
      "[0.         0.         0.         0.02105263 0.02105263 0.05263158\n",
      " 0.05263158 0.08421053 0.08421053 0.09473684 0.09473684 1.        ]\n",
      "tpr\n",
      "[0.         0.51785714 0.91071429 0.91071429 0.94642857 0.94642857\n",
      " 0.96428571 0.96428571 0.98214286 0.98214286 1.         1.        ]\n",
      "thresholds\n",
      "[2.         1.         0.99984884 0.99284606 0.97870826 0.6116658\n",
      " 0.56699784 0.0310958  0.02176518 0.02154867 0.0092102  0.        ]\n"
     ]
    },
    {
     "data": {
      "text/plain": [
       "<Figure size 504x360 with 0 Axes>"
      ]
     },
     "metadata": {},
     "output_type": "display_data"
    }
   ],
   "source": [
    "from sklearn.metrics import roc_curve, auc\n",
    "from numpy import interp\n",
    "from sklearn.linear_model import LogisticRegression\n",
    "from sklearn.model_selection import StratifiedKFold\n",
    "import numpy as np\n",
    "np.set_printoptions(suppress=True)#取消科學符號\n",
    "\n",
    "pipe_lr = make_pipeline(StandardScaler(),\n",
    "                       # PCA(n_components=2),\n",
    "                        LogisticRegression(penalty='l2', \n",
    "                                           random_state=1, \n",
    "                                           C=100.0,\n",
    "                                           solver='liblinear'))\n",
    "\n",
    "#X_train2 = X_train[:, [4, 14]]\n",
    "    \n",
    "\n",
    "kfold = list(StratifiedKFold(n_splits=3, \n",
    "                             random_state=1,shuffle=True).split(X_train, y_train))\n",
    "\n",
    "fig = plt.figure(figsize=(7, 5))\n",
    "\n",
    "mean_tpr = 0.0\n",
    "mean_fpr = np.linspace(0, 1, 100)\n",
    "all_tpr = []\n",
    "\n",
    "for i, (train, test) in enumerate(kfold):\n",
    "    probas = pipe_lr.fit(X_train[train],\n",
    "                         y_train[train]).predict_proba(X_train[test]) #回傳預測每個標籤的機率\n",
    "    #fpr array, shape = [>2]\n",
    "    #tp rarray, shape = [>2]\n",
    "    #thresholds array, shape = [n_thresholds]\n",
    "    fpr, tpr, thresholds = roc_curve(y_train[test],\n",
    "                                     probas[:, 1], #標籤為1的機率\n",
    "                                     pos_label=1)\n",
    "    print('fpr')\n",
    "    print(fpr)\n",
    "    print('tpr')\n",
    "    print(tpr)\n",
    "    print('thresholds')\n",
    "    print(thresholds)\n",
    "    #加總全部平均y軸的值(tpr) n_splits=3 總共100個點加總\n",
    "#     mean_tpr += interp(mean_fpr, fpr, tpr)\n",
    "#     mean_tpr[0] = 0.0 #重置第一個為0\n",
    "#     roc_auc = auc(fpr, tpr)\n",
    "#     plt.plot(fpr,\n",
    "#              tpr,\n",
    "#              label='ROC fold %d (area = %0.3f)'\n",
    "#                    % (i+1, roc_auc))\n",
    "# #隨機猜測對角線\n",
    "# plt.plot([0, 1],\n",
    "#          [0, 1],\n",
    "#          linestyle='--',\n",
    "#          color=(0.6, 0.6, 0.6),\n",
    "#          label='隨機猜測')\n",
    "# #計算平均y軸值(tpr)\n",
    "# mean_tpr /= len(kfold)\n",
    "# #重置y軸最後一個值為1\n",
    "# mean_tpr[-1] = 1.0\n",
    "# mean_auc = auc(mean_fpr, mean_tpr)\n",
    "# plt.plot(mean_fpr, mean_tpr, 'k--',\n",
    "#          label='平均 ROC (area = %0.3f)' % mean_auc, lw=2)\n",
    "# plt.plot([0, 0, 1],\n",
    "#          [0, 1, 1],\n",
    "#          linestyle=':',\n",
    "#          color='black',\n",
    "#          label='perfect performance')\n",
    "\n",
    "# plt.xlim([-0.05, 1.05])\n",
    "# plt.ylim([-0.05, 1.05])\n",
    "# plt.xlabel('false positive rate')\n",
    "# plt.ylabel('true positive rate')\n",
    "# plt.legend(loc=\"lower right\",prop = fontP)\n",
    "\n",
    "# plt.tight_layout()\n",
    "# # plt.savefig('images/06_10.png', dpi=300)\n",
    "# plt.show()"
   ]
  },
  {
   "cell_type": "markdown",
   "metadata": {},
   "source": [
    "由ROC曲線圖可以知道每個fold都有變異，和每次抽出的資料不同有關。表現的最好是fold 3，它的ROC曲線最靠近左上角。總結來說3個fold都表現的不錯，平均AUC = 0.976。"
   ]
  }
 ],
 "metadata": {
  "kernelspec": {
   "display_name": "Python 3",
   "language": "python",
   "name": "python3"
  },
  "language_info": {
   "codemirror_mode": {
    "name": "ipython",
    "version": 3
   },
   "file_extension": ".py",
   "mimetype": "text/x-python",
   "name": "python",
   "nbconvert_exporter": "python",
   "pygments_lexer": "ipython3",
   "version": "3.7.1"
  }
 },
 "nbformat": 4,
 "nbformat_minor": 4
}
